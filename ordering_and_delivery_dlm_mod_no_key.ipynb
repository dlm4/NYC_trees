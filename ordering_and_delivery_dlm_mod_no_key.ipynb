{
 "cells": [
  {
   "cell_type": "markdown",
   "metadata": {},
   "source": [
    "# Ordering and Delivery\n",
    "DLM edited\n",
    "This notebook demonstrates ordering and download with the orders api. In this notebook, we check authentication by requesting an orders list. We poll for order success then download images individually. And finally, we create, poll, and download the same order delivered as a single zip file.\n",
    "\n",
    "Modified from Amy Dixon's Ordering and Delivery code"
   ]
  },
  {
   "cell_type": "code",
   "execution_count": 1,
   "metadata": {},
   "outputs": [],
   "source": [
    "import json\n",
    "import os\n",
    "import pathlib\n",
    "import time\n",
    "import re\n",
    "\n",
    "import requests\n",
    "from requests.auth import HTTPBasicAuth"
   ]
  },
  {
   "cell_type": "markdown",
   "metadata": {},
   "source": [
    "## Authenticating and setup"
   ]
  },
  {
   "cell_type": "code",
   "execution_count": 3,
   "metadata": {},
   "outputs": [],
   "source": [
    "# API Key stored as an env variable\n",
    "# Paste Personal API key here\n",
    "PLANET_API_KEY = \"PLAKbd4eb24d0cbc4c8887f146944145df01\""
   ]
  },
  {
   "cell_type": "code",
   "execution_count": 1,
   "metadata": {},
   "outputs": [],
   "source": [
    "# SET INITIAL parameters\n",
    "\n",
    "order_name = \"2023 May 8b 2\"\n",
    "output_dir = '/Volumes/NYC_geo/Planet/raw_images/time_series' #'/Users/dlm356/dlm356_files/nyc_trees/planet_output_test_dir'\n",
    "\n",
    "data_product = 'analytic_8b_sr_udm2'\n",
    "# options are 'analytic_sr_udm2' for 4band\n",
    "# or 'analytic_8b_sr_udm2' for 8band (SuperDove, if available)\n",
    "# future: any way to setup to look for both and prioritize 8 band?\n",
    "# do a 4 band search AND an 8 band search, and wipe out any 4 band images that are the same acquisition as the 8 band? Then do two submission requests?\n",
    "\n",
    "# Time range\n",
    "date_gte = \"2023-05-01T00:00:00Z\" # date and time to start\n",
    "date_lte = \"2023-06-01T00:00:00Z\" # date and time to end\n",
    "\n",
    "# Filters\n",
    "max_cloud = 0.1 # maximum cloud cover\n",
    "min_cloud = 0.0 # if you want a min cloud filter, get all\n",
    "max_view_angle = 3.0 # maximum view angle\n",
    "\n",
    "# Set geometry\n",
    "# Pull from json file in lon lat format, can be a polygon that does not need to be a bounding box\n",
    "# convex hull for NYC, from nyc_buffer_dissolved_filled_convex_hull_latlon.geojson.\n",
    "geometry = {\n",
    "  \"type\":\"Polygon\",\n",
    "  \"coordinates\": [ [ [ -74.246842270352175, 40.487128599923757 ], [ -74.247047482532864, 40.487129667687171 ], [ -74.247557691590231, 40.487140753475323 ], [ -74.247762651227603, 40.487148597897679 ], [ -74.24827175482362, 40.487176524273345 ], [ -74.248476078291645, 40.487191130672088 ], [ -74.248983123527367, 40.487235845364943 ], [ -74.249186428388754, 40.487257186400988 ], [ -74.249690466211277, 40.487318605717469 ], [ -74.249892371932077, 40.487346641446301 ], [ -74.250392456422787, 40.487424650429126 ], [ -74.250592583813059, 40.487459328376808 ], [ -74.251087780747682, 40.4875537810114 ], [ -74.25128575649174, 40.487595036268232 ], [ -74.251775139645105, 40.487705755762292 ], [ -74.251970593166931, 40.487753511108629 ], [ -74.252453246489708, 40.487880290221874 ], [ -74.252645811926598, 40.487934456270835 ], [ -74.253120831945807, 40.488077057701489 ], [ -74.253310148832185, 40.488137533066151 ], [ -74.253776646339873, 40.488295689894379 ], [ -74.253962360281179, 40.488362361377028 ], [ -74.254419461996889, 40.488535777563818 ], [ -74.254601225332081, 40.488608520367748 ], [ -74.255048075535427, 40.488796871308075 ], [ -74.255225547987067, 40.488875549270603 ], [ -74.255661310117972, 40.489078482400259 ], [ -74.255834159428545, 40.489162948247383 ], [ -74.256258017651817, 40.489380083701882 ], [ -74.256425920205174, 40.489470179323462 ], [ -74.257221960924113, 40.48993719273119 ], [ -74.257296940563336, 40.489985189813481 ], [ -74.258894235230372, 40.491227161564503 ], [ -74.262031420729414, 40.494156658161366 ], [ -74.262440346294667, 40.494550056071184 ], [ -74.262525178591389, 40.494636512053106 ], [ -74.262904747329131, 40.495046700379653 ], [ -74.262983135715132, 40.495136632028235 ], [ -74.263332166755148, 40.495562335362287 ], [ -74.263403867343513, 40.495655463047655 ], [ -74.263721274690823, 40.496095357708697 ], [ -74.263786064373335, 40.496191391856598 ], [ -74.26407086029144, 40.496644110005562 ], [ -74.264128537433891, 40.496742751997132 ], [ -74.264379835523371, 40.497206885886747 ], [ -74.26565659985944, 40.49958682805272 ], [ -74.266170540379122, 40.500556148675187 ], [ -74.266575986735319, 40.501454408656187 ], [ -74.266621387470622, 40.501575366633141 ], [ -74.266788448659909, 40.502073812209424 ], [ -74.266824726673278, 40.502196551984014 ], [ -74.266954226964302, 40.502701466975765 ], [ -74.266981263593621, 40.502825587947797 ], [ -74.267072779250469, 40.503335324381631 ], [ -74.267090485987438, 40.503460421431519 ], [ -74.267143717221813, 40.503973315550702 ], [ -74.26738434297279, 40.507420581633731 ], [ -74.267386557773577, 40.507488212136423 ], [ -74.266900255348475, 40.510281485831442 ], [ -74.258236133079492, 40.547625051036107 ], [ -74.211407740090849, 40.634745313500396 ], [ -74.209849660040163, 40.636870012230148 ], [ -74.204301122444122, 40.642562465468814 ], [ -73.920366778038897, 40.920012235631425 ], [ -73.919743818478253, 40.920573071711942 ], [ -73.919672360321172, 40.920632327778293 ], [ -73.916877519423153, 40.922340161144973 ], [ -73.916706157811731, 40.922415689805959 ], [ -73.906428917121644, 40.923958714813352 ], [ -73.84831360516101, 40.919134562731657 ], [ -73.847937182420523, 40.919056399863592 ], [ -73.778727373519246, 40.888520922748214 ], [ -73.76867977058113, 40.882338192425401 ], [ -73.763703088645158, 40.878815235250023 ], [ -73.75696036920688, 40.872481074144403 ], [ -73.689886430134905, 40.753627565703233 ], [ -73.689875105703436, 40.753559752636193 ], [ -73.689600416993756, 40.751914720070779 ], [ -73.689535948275505, 40.751419440491432 ], [ -73.689102289709453, 40.747880991951732 ], [ -73.688249028357561, 40.740361661254077 ], [ -73.688226127131912, 40.738447694662021 ], [ -73.688237283629448, 40.738360824370822 ], [ -73.726990665989518, 40.592217349698473 ], [ -73.727022447257568, 40.592123563668316 ], [ -73.727954535813126, 40.59025777301418 ], [ -73.72796603631393, 40.590240723071105 ], [ -73.732674633834478, 40.586512086409762 ], [ -73.732690475197373, 40.58650528436074 ], [ -73.733548873915751, 40.586268154266889 ], [ -73.938289442679434, 40.533022837810584 ], [ -73.938467100888147, 40.532996292014708 ], [ -74.246842270352175, 40.487128599923757 ] ] ]\n",
    "}"
   ]
  },
  {
   "cell_type": "code",
   "execution_count": 4,
   "metadata": {},
   "outputs": [],
   "source": [
    "orders_url = 'https://api.planet.com/compute/ops/orders/v2'\n",
    "data_url = \"https://api.planet.com/data/v1\""
   ]
  },
  {
   "cell_type": "markdown",
   "metadata": {},
   "source": [
    "### Curl example\n",
    "\n",
    "To check your orders list and make sure you have the permissions you need, uncomment the following line to run `curl`"
   ]
  },
  {
   "cell_type": "code",
   "execution_count": 5,
   "metadata": {},
   "outputs": [
    {
     "name": "stdout",
     "output_type": "stream",
     "text": [
      "curl: (2) no URL specified\n",
      "curl: try 'curl --help' for more information\n",
      "{\"_links\": {\"_self\": \"https://api.planet.com/data/v1/\", \"asset-types\": \"https://api.planet.com/data/v1/asset-types/\", \"item-types\": \"https://api.planet.com/data/v1/item-types/\", \"spec\": \"https://api.planet.com/data/v1/spec\"}}"
     ]
    }
   ],
   "source": [
    "!curl -L -H \"Authorization: api-key $PLANET_API_KEY\" $orders_url\n",
    "!curl -u PLANET_API_KEY: https://api.planet.com/data/v1/ # DLM: authentication of API key if needed, https://developers.planet.com/docs/apis/data/api-mechanics/"
   ]
  },
  {
   "cell_type": "markdown",
   "metadata": {},
   "source": [
    "## Searching with the Data API\n",
    "We can use the [data API](https://developers.planet.com/docs/apis/data/) in order to automate searching based on the search criterias like: date range, cloud cover, area cover, aoi."
   ]
  },
  {
   "cell_type": "code",
   "execution_count": 6,
   "metadata": {},
   "outputs": [],
   "source": [
    "# Setup filters\n",
    "# get images that overlap with our AOI \n",
    "geometry_filter = {\n",
    "  \"type\": \"GeometryFilter\",\n",
    "  \"field_name\": \"geometry\",\n",
    "  \"config\": geometry\n",
    "}\n",
    "\n",
    "# get images acquired within a date range\n",
    "# change this here!\n",
    "date_range_filter = {\n",
    "  \"type\": \"DateRangeFilter\",\n",
    "  \"field_name\": \"acquired\",\n",
    "  \"config\": {\n",
    "    \"gte\": date_gte, # \"2021-07-20T00:00:00Z\", #\"gte\":\"2024-03-18T00:00:00Z\", #gte greater than or equal to\n",
    "    \"lte\": date_lte # \"2021-07-24T00:00:00Z\", #\"lte\":\"2024-04-17T23:00:00Z\"\n",
    "  }\n",
    "}\n",
    "\n",
    "# only get images which have <10% cloud coverage # DLM: might need to change this tolerance for NYC to get more coverage\n",
    "cloud_cover_filter = {\n",
    "  \"type\": \"RangeFilter\",\n",
    "  \"field_name\": \"cloud_cover\",\n",
    "  \"config\": {\n",
    "    \"gte\": min_cloud, # if we want a min cloud filter to get more data\n",
    "    \"lte\": max_cloud # 0.1\n",
    "  }\n",
    "}\n",
    "\n",
    "# only images with <3 degree view angle\n",
    "view_angle_filter = {\n",
    "    \"type\": \"RangeFilter\",\n",
    "    \"field_name\": \"view_angle\",\n",
    "    \"config\": {\n",
    "        \"lte\": max_view_angle # 3.0\n",
    "    }\n",
    "}\n",
    "\n",
    "# combine our geo, date, cloud filters\n",
    "combined_filter = {\n",
    "  \"type\": \"AndFilter\",\n",
    "  \"config\": [geometry_filter, date_range_filter, cloud_cover_filter, view_angle_filter]\n",
    "}"
   ]
  },
  {
   "cell_type": "code",
   "execution_count": 7,
   "metadata": {},
   "outputs": [
    {
     "data": {
      "text/plain": [
       "{'type': 'AndFilter',\n",
       " 'config': [{'type': 'GeometryFilter',\n",
       "   'field_name': 'geometry',\n",
       "   'config': {'type': 'Polygon',\n",
       "    'coordinates': [[[-74.24684227035218, 40.48712859992376],\n",
       "      [-74.24704748253286, 40.48712966768717],\n",
       "      [-74.24755769159023, 40.48714075347532],\n",
       "      [-74.2477626512276, 40.48714859789768],\n",
       "      [-74.24827175482362, 40.487176524273345],\n",
       "      [-74.24847607829165, 40.48719113067209],\n",
       "      [-74.24898312352737, 40.48723584536494],\n",
       "      [-74.24918642838875, 40.48725718640099],\n",
       "      [-74.24969046621128, 40.48731860571747],\n",
       "      [-74.24989237193208, 40.4873466414463],\n",
       "      [-74.25039245642279, 40.487424650429126],\n",
       "      [-74.25059258381306, 40.48745932837681],\n",
       "      [-74.25108778074768, 40.4875537810114],\n",
       "      [-74.25128575649174, 40.48759503626823],\n",
       "      [-74.2517751396451, 40.48770575576229],\n",
       "      [-74.25197059316693, 40.48775351110863],\n",
       "      [-74.25245324648971, 40.487880290221874],\n",
       "      [-74.2526458119266, 40.487934456270835],\n",
       "      [-74.25312083194581, 40.48807705770149],\n",
       "      [-74.25331014883218, 40.48813753306615],\n",
       "      [-74.25377664633987, 40.48829568989438],\n",
       "      [-74.25396236028118, 40.48836236137703],\n",
       "      [-74.25441946199689, 40.48853577756382],\n",
       "      [-74.25460122533208, 40.48860852036775],\n",
       "      [-74.25504807553543, 40.488796871308075],\n",
       "      [-74.25522554798707, 40.4888755492706],\n",
       "      [-74.25566131011797, 40.48907848240026],\n",
       "      [-74.25583415942855, 40.48916294824738],\n",
       "      [-74.25625801765182, 40.48938008370188],\n",
       "      [-74.25642592020517, 40.48947017932346],\n",
       "      [-74.25722196092411, 40.48993719273119],\n",
       "      [-74.25729694056334, 40.48998518981348],\n",
       "      [-74.25889423523037, 40.4912271615645],\n",
       "      [-74.26203142072941, 40.494156658161366],\n",
       "      [-74.26244034629467, 40.49455005607118],\n",
       "      [-74.26252517859139, 40.494636512053106],\n",
       "      [-74.26290474732913, 40.49504670037965],\n",
       "      [-74.26298313571513, 40.495136632028235],\n",
       "      [-74.26333216675515, 40.49556233536229],\n",
       "      [-74.26340386734351, 40.495655463047655],\n",
       "      [-74.26372127469082, 40.4960953577087],\n",
       "      [-74.26378606437333, 40.4961913918566],\n",
       "      [-74.26407086029144, 40.49664411000556],\n",
       "      [-74.26412853743389, 40.49674275199713],\n",
       "      [-74.26437983552337, 40.49720688588675],\n",
       "      [-74.26565659985944, 40.49958682805272],\n",
       "      [-74.26617054037912, 40.50055614867519],\n",
       "      [-74.26657598673532, 40.50145440865619],\n",
       "      [-74.26662138747062, 40.50157536663314],\n",
       "      [-74.26678844865991, 40.502073812209424],\n",
       "      [-74.26682472667328, 40.502196551984014],\n",
       "      [-74.2669542269643, 40.502701466975765],\n",
       "      [-74.26698126359362, 40.5028255879478],\n",
       "      [-74.26707277925047, 40.50333532438163],\n",
       "      [-74.26709048598744, 40.50346042143152],\n",
       "      [-74.26714371722181, 40.5039733155507],\n",
       "      [-74.26738434297279, 40.50742058163373],\n",
       "      [-74.26738655777358, 40.50748821213642],\n",
       "      [-74.26690025534847, 40.51028148583144],\n",
       "      [-74.25823613307949, 40.54762505103611],\n",
       "      [-74.21140774009085, 40.634745313500396],\n",
       "      [-74.20984966004016, 40.63687001223015],\n",
       "      [-74.20430112244412, 40.642562465468814],\n",
       "      [-73.9203667780389, 40.920012235631425],\n",
       "      [-73.91974381847825, 40.92057307171194],\n",
       "      [-73.91967236032117, 40.92063232777829],\n",
       "      [-73.91687751942315, 40.92234016114497],\n",
       "      [-73.91670615781173, 40.92241568980596],\n",
       "      [-73.90642891712164, 40.92395871481335],\n",
       "      [-73.84831360516101, 40.91913456273166],\n",
       "      [-73.84793718242052, 40.91905639986359],\n",
       "      [-73.77872737351925, 40.888520922748214],\n",
       "      [-73.76867977058113, 40.8823381924254],\n",
       "      [-73.76370308864516, 40.87881523525002],\n",
       "      [-73.75696036920688, 40.8724810741444],\n",
       "      [-73.6898864301349, 40.75362756570323],\n",
       "      [-73.68987510570344, 40.75355975263619],\n",
       "      [-73.68960041699376, 40.75191472007078],\n",
       "      [-73.6895359482755, 40.75141944049143],\n",
       "      [-73.68910228970945, 40.74788099195173],\n",
       "      [-73.68824902835756, 40.74036166125408],\n",
       "      [-73.68822612713191, 40.73844769466202],\n",
       "      [-73.68823728362945, 40.73836082437082],\n",
       "      [-73.72699066598952, 40.59221734969847],\n",
       "      [-73.72702244725757, 40.592123563668316],\n",
       "      [-73.72795453581313, 40.59025777301418],\n",
       "      [-73.72796603631393, 40.590240723071105],\n",
       "      [-73.73267463383448, 40.58651208640976],\n",
       "      [-73.73269047519737, 40.58650528436074],\n",
       "      [-73.73354887391575, 40.58626815426689],\n",
       "      [-73.93828944267943, 40.533022837810584],\n",
       "      [-73.93846710088815, 40.53299629201471],\n",
       "      [-74.24684227035218, 40.48712859992376]]]}},\n",
       "  {'type': 'DateRangeFilter',\n",
       "   'field_name': 'acquired',\n",
       "   'config': {'gte': '2023-05-01T00:00:00Z', 'lte': '2023-06-01T00:00:00Z'}},\n",
       "  {'type': 'RangeFilter',\n",
       "   'field_name': 'cloud_cover',\n",
       "   'config': {'gte': 0.0, 'lte': 0.1}},\n",
       "  {'type': 'RangeFilter', 'field_name': 'view_angle', 'config': {'lte': 3.0}}]}"
      ]
     },
     "execution_count": 7,
     "metadata": {},
     "output_type": "execute_result"
    }
   ],
   "source": [
    "combined_filter"
   ]
  },
  {
   "cell_type": "code",
   "execution_count": 8,
   "metadata": {},
   "outputs": [
    {
     "ename": "NameError",
     "evalue": "name 'requests' is not defined",
     "output_type": "error",
     "traceback": [
      "\u001b[0;31m---------------------------------------------------------------------------\u001b[0m",
      "\u001b[0;31mNameError\u001b[0m                                 Traceback (most recent call last)",
      "Cell \u001b[0;32mIn[8], line 12\u001b[0m\n\u001b[1;32m      5\u001b[0m search_request \u001b[38;5;241m=\u001b[39m {\n\u001b[1;32m      6\u001b[0m   \u001b[38;5;124m\"\u001b[39m\u001b[38;5;124mitem_types\u001b[39m\u001b[38;5;124m\"\u001b[39m: [item_type], \n\u001b[1;32m      7\u001b[0m   \u001b[38;5;124m\"\u001b[39m\u001b[38;5;124mfilter\u001b[39m\u001b[38;5;124m\"\u001b[39m: combined_filter\n\u001b[1;32m      8\u001b[0m }\n\u001b[1;32m     10\u001b[0m \u001b[38;5;66;03m# fire off the POST request\u001b[39;00m\n\u001b[1;32m     11\u001b[0m search_result \u001b[38;5;241m=\u001b[39m \\\n\u001b[0;32m---> 12\u001b[0m   requests\u001b[38;5;241m.\u001b[39mpost(\n\u001b[1;32m     13\u001b[0m     \u001b[38;5;124m'\u001b[39m\u001b[38;5;124mhttps://api.planet.com/data/v1/quick-search\u001b[39m\u001b[38;5;124m'\u001b[39m,\n\u001b[1;32m     14\u001b[0m     auth\u001b[38;5;241m=\u001b[39mHTTPBasicAuth(PLANET_API_KEY, \u001b[38;5;124m'\u001b[39m\u001b[38;5;124m'\u001b[39m),\n\u001b[1;32m     15\u001b[0m     json\u001b[38;5;241m=\u001b[39msearch_request)\n\u001b[1;32m     17\u001b[0m \u001b[38;5;66;03m# extract image IDs only\u001b[39;00m\n\u001b[1;32m     18\u001b[0m image_ids \u001b[38;5;241m=\u001b[39m [feature[\u001b[38;5;124m'\u001b[39m\u001b[38;5;124mid\u001b[39m\u001b[38;5;124m'\u001b[39m] \u001b[38;5;28;01mfor\u001b[39;00m feature \u001b[38;5;129;01min\u001b[39;00m search_result\u001b[38;5;241m.\u001b[39mjson()[\u001b[38;5;124m'\u001b[39m\u001b[38;5;124mfeatures\u001b[39m\u001b[38;5;124m'\u001b[39m]]\n",
      "\u001b[0;31mNameError\u001b[0m: name 'requests' is not defined"
     ]
    }
   ],
   "source": [
    "# Search for available scenes based on filter parameters above\n",
    "item_type = \"PSScene\"\n",
    "\n",
    "# API request object\n",
    "search_request = {\n",
    "  \"item_types\": [item_type], \n",
    "  \"filter\": combined_filter\n",
    "}\n",
    "\n",
    "# fire off the POST request\n",
    "search_result = \\\n",
    "  requests.post(\n",
    "    'https://api.planet.com/data/v1/quick-search',\n",
    "    auth=HTTPBasicAuth(PLANET_API_KEY, ''),\n",
    "    json=search_request)\n",
    "\n",
    "# extract image IDs only\n",
    "image_ids = [feature['id'] for feature in search_result.json()['features']]\n",
    "print(image_ids)\n",
    "# These are the image ids that are needed to submit an order, might be need to be looped and filtered\n",
    "\n",
    "if len(image_ids) == 250:\n",
    "  print('WARNING: 250 search items reached, search result will be limited to 250. Pagination required for larger geojson search')\n",
    "else:\n",
    "  print(str(len(image_ids)) + \" image items\")"
   ]
  },
  {
   "cell_type": "markdown",
   "metadata": {},
   "source": [
    "### Requests example\n",
    "\n",
    "In this notebook, we will be using `requests` to communicate with the orders v2 API. First, we will check our orders list to make sure authentication and communication is working as expected.\n",
    "\n",
    "We want to get a response code of `200` from this API call. To troubleshoot other response codes, see the [List Orders](https://developers.planet.com/docs/orders/reference/#operation/listOrders) AOI reference."
   ]
  },
  {
   "cell_type": "code",
   "execution_count": 15,
   "metadata": {},
   "outputs": [
    {
     "data": {
      "text/plain": [
       "<Response [200]>"
      ]
     },
     "execution_count": 15,
     "metadata": {},
     "output_type": "execute_result"
    }
   ],
   "source": [
    "# check authorization, want <200> response if all permissions are good\n",
    "auth = HTTPBasicAuth(PLANET_API_KEY, '')\n",
    "response = requests.get(orders_url, auth=auth)\n",
    "response"
   ]
  },
  {
   "cell_type": "markdown",
   "metadata": {},
   "source": [
    "## Ordering\n",
    "\n",
    "In this example, we will order two `PSScene4Band` analytic images. For variations on this kind of order, see [Ordering Data](https://developers.planet.com/docs/orders/ordering-delivery/#ordering-data_1).\n",
    "\n",
    "In this order, we request an `analytic` bundle. A bundle is a group of assets for an item. The `analytic` bundle for the  `PSScene4Band` item contains 3 assets: the analytic image, the analytic xml file, and the udm. See the [Product bundles reference](https://developers.planet.com/docs/orders/product-bundles-reference/) to learn about other bundles and other items."
   ]
  },
  {
   "cell_type": "markdown",
   "metadata": {},
   "source": [
    "Now we will list the names of orders we have created thus far. Your list may be empty if you have not created an order yet."
   ]
  },
  {
   "cell_type": "code",
   "execution_count": 16,
   "metadata": {},
   "outputs": [
    {
     "data": {
      "text/plain": [
       "['HZTX 2024 Aug 4b',\n",
       " 'HZTX 2024 July 4b',\n",
       " 'HZTX 2024 June 4b',\n",
       " 'HZTX 2024 May 4b',\n",
       " 'HZTX 2024 Apr 4b',\n",
       " 'HZTX 2024 Mar 4b',\n",
       " 'HZTX 2024 Feb 4b',\n",
       " 'HZTX 2024 Jan 4b',\n",
       " 'HZTX 2024 Jan 4b',\n",
       " '2019 Dec 4b cloud gte 10',\n",
       " '2019 Nov 4b cloud gte 10',\n",
       " '2019 Oct 4b cloud gte 10',\n",
       " '2019 Sep 4b cloud gte 10',\n",
       " '2019 Aug 4b cloud gte 10',\n",
       " '2019 July 4b cloud gte 10',\n",
       " '2019 June 4b cloud gte 10',\n",
       " '2019 May 4b cloud gte 10',\n",
       " '2019 April 4b cloud gte 10',\n",
       " '2019 March 4b cloud gte 10',\n",
       " '2019 Feb 4b cloud gte 10']"
      ]
     },
     "execution_count": 16,
     "metadata": {},
     "output_type": "execute_result"
    }
   ],
   "source": [
    "# check previous orders (if necessary)\n",
    "orders = response.json()['orders']\n",
    "[r['name'] for r in orders]"
   ]
  },
  {
   "cell_type": "markdown",
   "metadata": {},
   "source": [
    "### Place Order"
   ]
  },
  {
   "cell_type": "code",
   "execution_count": 17,
   "metadata": {},
   "outputs": [],
   "source": [
    "# set content type to json\n",
    "headers = {'content-type': 'application/json'}"
   ]
  },
  {
   "cell_type": "code",
   "execution_count": 18,
   "metadata": {},
   "outputs": [],
   "source": [
    "# This is where to indicate exactly which images you want to download, but you can add clipping or bandmath below annd order from there\n",
    "product = [\n",
    "    {\n",
    "      \"item_ids\": image_ids, #list of image ids\n",
    "      \"item_type\":  \"PSScene\", #indicate the item type, PSScene is PlanetScope\n",
    "      \"product_bundle\": data_product\n",
    "    }\n",
    "]\n",
    "\n",
    "# define the clip tool with geometry from above\n",
    "clip = {\n",
    "    \"clip\": {\n",
    "        \"aoi\": geometry\n",
    "    }\n",
    "}\n",
    "\n",
    "# DLM: harmonize to sentinel-2\n",
    "# https://support.planet.com/hc/en-us/articles/4405971577501-How-Why-and-When-to-Use-the-New-Target-Sensor-in-the-Harmonization-Tool\n",
    "harmonize = {\n",
    "    \"harmonize\": {\n",
    "        \"target_sensor\": \"Sentinel-2\"\n",
    "      }\n",
    "}\n",
    "\n",
    "tool_request = { \n",
    "    \"name\": order_name, #\"toolchain order harmonized 8b\", # need to change name for each order or set up something procedural to be updated in the script\n",
    "    \"products\": product,\n",
    "    \"tools\": [clip, harmonize],\n",
    "    \"delivery\": {\"single_archive\": True, \"archive_type\": \"zip\"}\n",
    "}"
   ]
  },
  {
   "cell_type": "code",
   "execution_count": 19,
   "metadata": {},
   "outputs": [],
   "source": [
    "# parse error in json response to filter out images that aren't actually available\n",
    "def parse_response(data):\n",
    "    \n",
    "    results = []\n",
    "    for detail in data['field']['Details']:\n",
    "        message = detail['message']\n",
    "        parts = message.split('/')[1].split('[')[0]  # Extract the substring between '/' and '['\n",
    "        results.append(parts)\n",
    "        \n",
    "    return(results)\n",
    "\n",
    "# DLM: function for placing an order and screening for bad image links before submitting\n",
    "def place_order_filtered(request, auth):\n",
    "    response = requests.post(orders_url, data=json.dumps(request), auth=auth, headers=headers)\n",
    "    print(response.json())\n",
    "\n",
    "    bad_ids = parse_response(response.json()) # TO FIX: throws an error if there are no bad ids (but submits the order anyway?)\n",
    "    image_ids_filtered = [entry for entry in image_ids if entry not in bad_ids]\n",
    "\n",
    "    print(bad_ids)\n",
    "    print(image_ids)\n",
    "    print(image_ids_filtered)\n",
    "\n",
    "    # revise product and request based on the filtered ids\n",
    "    product = [\n",
    "        {\n",
    "        \"item_ids\": image_ids_filtered, #list of image ids\n",
    "        \"item_type\":  \"PSScene\", #indicate the item type, PSScene is PlanetScope\n",
    "        \"product_bundle\": data_product\n",
    "        }\n",
    "    ]\n",
    "\n",
    "    request = { \n",
    "        \"name\": order_name, # \"toolchain order harmonized filter test\", # need to change name for each order or set up something procedural to be updated in the script\n",
    "        \"products\": product,\n",
    "        \"tools\": [clip, harmonize], \n",
    "        \"delivery\": {\"single_archive\": True, \"archive_type\": \"zip\"}\n",
    "    } # this is the tool request\n",
    "\n",
    "    # try again with the filtered data\n",
    "    response = requests.post(orders_url, data=json.dumps(request), auth=auth, headers=headers)\n",
    "    print(response.json())\n",
    "    order_id = response.json()['id']\n",
    "    print(order_id)\n",
    "    order_url = orders_url + '/' + order_id\n",
    "    return order_url\n"
   ]
  },
  {
   "cell_type": "code",
   "execution_count": 20,
   "metadata": {},
   "outputs": [
    {
     "name": "stdout",
     "output_type": "stream",
     "text": [
      "{'field': {'Details': [{'message': 'No access to assets: PSScene/20221212_144224_12_242b/[ortho_analytic_4b_sr ortho_analytic_4b_xml ortho_udm2]'}, {'message': 'No access to assets: PSScene/20221227_144357_58_2449/[ortho_analytic_4b_sr ortho_analytic_4b_xml ortho_udm2]'}, {'message': 'No access to assets: PSScene/20221227_144355_27_2449/[ortho_analytic_4b_sr ortho_analytic_4b_xml ortho_udm2]'}, {'message': 'No access to assets: PSScene/20221227_144352_97_2449/[ortho_analytic_4b_sr ortho_analytic_4b_xml ortho_udm2]'}, {'message': 'No access to assets: PSScene/20221227_144350_66_2449/[ortho_analytic_4b_sr ortho_analytic_4b_xml ortho_udm2]'}, {'message': 'No access to assets: PSScene/20221224_144621_55_241e/[ortho_analytic_4b_sr ortho_analytic_4b_xml ortho_udm2]'}, {'message': 'No access to assets: PSScene/20221224_144619_22_241e/[ortho_analytic_4b_sr ortho_analytic_4b_xml ortho_udm2]'}, {'message': 'No access to assets: PSScene/20221219_152200_17_2481/[ortho_analytic_4b_sr ortho_analytic_4b_xml ortho_udm2]'}, {'message': 'No access to assets: PSScene/20221217_152125_86_247a/[ortho_analytic_4b_sr ortho_analytic_4b_xml ortho_udm2]'}, {'message': 'No access to assets: PSScene/20221217_152123_52_247a/[ortho_analytic_4b_sr ortho_analytic_4b_xml ortho_udm2]'}, {'message': 'No access to assets: PSScene/20221217_152302_60_248b/[ortho_analytic_4b_sr ortho_analytic_4b_xml ortho_udm2]'}, {'message': 'No access to assets: PSScene/20221212_144231_09_242b/[ortho_analytic_4b_sr ortho_analytic_4b_xml ortho_udm2]'}, {'message': 'No access to assets: PSScene/20221212_144228_76_242b/[ortho_analytic_4b_sr ortho_analytic_4b_xml ortho_udm2]'}, {'message': 'No access to assets: PSScene/20221212_144226_44_242b/[ortho_analytic_4b_sr ortho_analytic_4b_xml ortho_udm2]'}, {'message': 'No access to assets: PSScene/20221210_144329_24_2447/[ortho_analytic_4b_sr ortho_analytic_4b_xml ortho_udm2]'}, {'message': 'No access to assets: PSScene/20221210_144322_29_2447/[ortho_analytic_4b_sr ortho_analytic_4b_xml ortho_udm2]'}, {'message': 'No access to assets: PSScene/20221210_152032_25_248c/[ortho_analytic_4b_sr ortho_analytic_4b_xml ortho_udm2]'}, {'message': 'No access to assets: PSScene/20221210_152029_92_248c/[ortho_analytic_4b_sr ortho_analytic_4b_xml ortho_udm2]'}, {'message': 'No access to assets: PSScene/20221210_152027_59_248c/[ortho_analytic_4b_sr ortho_analytic_4b_xml ortho_udm2]'}, {'message': 'No access to assets: PSScene/20221210_152025_26_248c/[ortho_analytic_4b_sr ortho_analytic_4b_xml ortho_udm2]'}, {'message': 'No access to assets: PSScene/20221208_152006_60_249d/[ortho_analytic_4b_sr ortho_analytic_4b_xml ortho_udm2]'}]}, 'general': [{'message': 'Unable to accept order'}]}\n",
      "['20221212_144224_12_242b', '20221227_144357_58_2449', '20221227_144355_27_2449', '20221227_144352_97_2449', '20221227_144350_66_2449', '20221224_144621_55_241e', '20221224_144619_22_241e', '20221219_152200_17_2481', '20221217_152125_86_247a', '20221217_152123_52_247a', '20221217_152302_60_248b', '20221212_144231_09_242b', '20221212_144228_76_242b', '20221212_144226_44_242b', '20221210_144329_24_2447', '20221210_144322_29_2447', '20221210_152032_25_248c', '20221210_152029_92_248c', '20221210_152027_59_248c', '20221210_152025_26_248c', '20221208_152006_60_249d']\n",
      "['20221212_144224_12_242b', '20221227_144357_58_2449', '20221227_144355_27_2449', '20221227_144352_97_2449', '20221227_144350_66_2449', '20221224_144621_55_241e', '20221224_144619_22_241e', '20221219_152200_17_2481', '20221217_152125_86_247a', '20221217_152123_52_247a', '20221217_152302_60_248b', '20221212_144231_09_242b', '20221212_144228_76_242b', '20221212_144226_44_242b', '20221210_144329_24_2447', '20221210_144322_29_2447', '20221210_152032_25_248c', '20221210_152029_92_248c', '20221210_152027_59_248c', '20221210_152025_26_248c', '20221208_152006_60_249d']\n",
      "[]\n",
      "{'field': {'Products': [{'message': 'ItemIDs is empty or missing from Product'}]}, 'general': [{'message': 'Unable to accept order'}]}\n"
     ]
    },
    {
     "ename": "KeyError",
     "evalue": "'id'",
     "output_type": "error",
     "traceback": [
      "\u001b[0;31m---------------------------------------------------------------------------\u001b[0m",
      "\u001b[0;31mKeyError\u001b[0m                                  Traceback (most recent call last)",
      "Cell \u001b[0;32mIn[20], line 2\u001b[0m\n\u001b[1;32m      1\u001b[0m \u001b[38;5;66;03m# This is the actual order submission step!\u001b[39;00m\n\u001b[0;32m----> 2\u001b[0m tool_order_url \u001b[38;5;241m=\u001b[39m place_order_filtered(tool_request, auth)\n",
      "Cell \u001b[0;32mIn[19], line 43\u001b[0m, in \u001b[0;36mplace_order_filtered\u001b[0;34m(request, auth)\u001b[0m\n\u001b[1;32m     41\u001b[0m response \u001b[38;5;241m=\u001b[39m requests\u001b[38;5;241m.\u001b[39mpost(orders_url, data\u001b[38;5;241m=\u001b[39mjson\u001b[38;5;241m.\u001b[39mdumps(request), auth\u001b[38;5;241m=\u001b[39mauth, headers\u001b[38;5;241m=\u001b[39mheaders)\n\u001b[1;32m     42\u001b[0m \u001b[38;5;28mprint\u001b[39m(response\u001b[38;5;241m.\u001b[39mjson())\n\u001b[0;32m---> 43\u001b[0m order_id \u001b[38;5;241m=\u001b[39m response\u001b[38;5;241m.\u001b[39mjson()[\u001b[38;5;124m'\u001b[39m\u001b[38;5;124mid\u001b[39m\u001b[38;5;124m'\u001b[39m]\n\u001b[1;32m     44\u001b[0m \u001b[38;5;28mprint\u001b[39m(order_id)\n\u001b[1;32m     45\u001b[0m order_url \u001b[38;5;241m=\u001b[39m orders_url \u001b[38;5;241m+\u001b[39m \u001b[38;5;124m'\u001b[39m\u001b[38;5;124m/\u001b[39m\u001b[38;5;124m'\u001b[39m \u001b[38;5;241m+\u001b[39m order_id\n",
      "\u001b[0;31mKeyError\u001b[0m: 'id'"
     ]
    }
   ],
   "source": [
    "# This is the actual order submission step!\n",
    "tool_order_url = place_order_filtered(tool_request, auth)"
   ]
  },
  {
   "cell_type": "markdown",
   "metadata": {},
   "source": [
    "### Poll for Order Success"
   ]
  },
  {
   "cell_type": "code",
   "execution_count": 45,
   "metadata": {},
   "outputs": [
    {
     "name": "stdout",
     "output_type": "stream",
     "text": [
      "success\n"
     ]
    }
   ],
   "source": [
    "def poll_for_success(order_url, auth, num_loops=5):\n",
    "    count = 0\n",
    "    while(count < num_loops):\n",
    "        count += 1\n",
    "        r = requests.get(order_url, auth=auth)\n",
    "        response = r.json()\n",
    "        state = response['state']\n",
    "        print(state)\n",
    "        end_states = ['success', 'failed', 'partial']\n",
    "        if state in end_states:\n",
    "            break\n",
    "        time.sleep(10)\n",
    "        \n",
    "poll_for_success(tool_order_url, auth)"
   ]
  },
  {
   "cell_type": "markdown",
   "metadata": {},
   "source": [
    "### View Results\n",
    "Now lets review our previous order and download it"
   ]
  },
  {
   "cell_type": "code",
   "execution_count": 46,
   "metadata": {},
   "outputs": [
    {
     "data": {
      "text/plain": [
       "'success'"
      ]
     },
     "execution_count": 46,
     "metadata": {},
     "output_type": "execute_result"
    }
   ],
   "source": [
    "requests.get(tool_order_url, auth=auth).json()['state']"
   ]
  },
  {
   "cell_type": "code",
   "execution_count": 47,
   "metadata": {
    "scrolled": false
   },
   "outputs": [],
   "source": [
    "r = requests.get(tool_order_url, auth=auth)\n",
    "response = r.json()\n",
    "results = response['_links']['results']"
   ]
  },
  {
   "cell_type": "code",
   "execution_count": 48,
   "metadata": {},
   "outputs": [
    {
     "data": {
      "text/plain": [
       "['0be91841-cc42-4e93-b440-665deb97157d/output.zip',\n",
       " '0be91841-cc42-4e93-b440-665deb97157d/manifest.json']"
      ]
     },
     "execution_count": 48,
     "metadata": {},
     "output_type": "execute_result"
    }
   ],
   "source": [
    "[r['name'] for r in results]"
   ]
  },
  {
   "cell_type": "markdown",
   "metadata": {},
   "source": [
    "## Download\n",
    "\n",
    "### Downloading each asset individually"
   ]
  },
  {
   "cell_type": "code",
   "execution_count": 49,
   "metadata": {},
   "outputs": [],
   "source": [
    "# downloading assets\n",
    "def download_results(results, overwrite=False):\n",
    "    results_urls = [r['location'] for r in results]\n",
    "    results_names = [r['name'] for r in results]\n",
    "    print('{} items to download'.format(len(results_urls)))\n",
    "    \n",
    "    for url, name in zip(results_urls, results_names):\n",
    "        #path = pathlib.Path(os.path.join('data', name))\n",
    "        path = pathlib.Path(os.path.join(output_dir, name)) #'/Users/dlm356/dlm356_files/nyc_trees/planet_output_test_dir'\n",
    "        \n",
    "        if overwrite or not path.exists():\n",
    "            print('downloading {} to {}'.format(name, path))\n",
    "            r = requests.get(url, allow_redirects=True)\n",
    "            path.parent.mkdir(parents=True, exist_ok=True)\n",
    "            open(path, 'wb').write(r.content)\n",
    "        else:\n",
    "            print('{} already exists, skipping {}'.format(path, name))"
   ]
  },
  {
   "cell_type": "code",
   "execution_count": 50,
   "metadata": {},
   "outputs": [
    {
     "name": "stdout",
     "output_type": "stream",
     "text": [
      "2 items to download\n",
      "downloading 0be91841-cc42-4e93-b440-665deb97157d/output.zip to /Users/dlm356/dlm356_files/nyc_trees/planet_output_test_dir/0be91841-cc42-4e93-b440-665deb97157d/output.zip\n",
      "downloading 0be91841-cc42-4e93-b440-665deb97157d/manifest.json to /Users/dlm356/dlm356_files/nyc_trees/planet_output_test_dir/0be91841-cc42-4e93-b440-665deb97157d/manifest.json\n"
     ]
    }
   ],
   "source": [
    "download_results(results)"
   ]
  }
 ],
 "metadata": {
  "kernelspec": {
   "display_name": "Python 3",
   "language": "python",
   "name": "python3"
  },
  "language_info": {
   "codemirror_mode": {
    "name": "ipython",
    "version": 3
   },
   "file_extension": ".py",
   "mimetype": "text/x-python",
   "name": "python",
   "nbconvert_exporter": "python",
   "pygments_lexer": "ipython3",
   "version": "3.11.5"
  }
 },
 "nbformat": 4,
 "nbformat_minor": 2
}
